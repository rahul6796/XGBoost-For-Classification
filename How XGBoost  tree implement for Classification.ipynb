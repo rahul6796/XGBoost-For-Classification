{
 "cells": [
  {
   "cell_type": "markdown",
   "metadata": {},
   "source": [
    "# XGBoost Tree for classification"
   ]
  },
  {
   "cell_type": "markdown",
   "metadata": {},
   "source": [
    "How XGBoost tree are built for classification"
   ]
  },
  {
   "cell_type": "markdown",
   "metadata": {},
   "source": [
    "However to keep the example from getting out of hand , we will use this super simple $Training$ $Data$ consisting of $4$ different $Drug$ $Dosages$."
   ]
  },
  {
   "cell_type": "code",
   "execution_count": 1,
   "metadata": {},
   "outputs": [],
   "source": [
    "## draw the data point of this task:"
   ]
  },
  {
   "cell_type": "code",
   "execution_count": null,
   "metadata": {},
   "outputs": [],
   "source": []
  },
  {
   "cell_type": "markdown",
   "metadata": {},
   "source": [
    "The Green  Dots indicates that the drug was effective..."
   ]
  },
  {
   "cell_type": "markdown",
   "metadata": {},
   "source": [
    "and the $Red$ Dots indicate that the drug was not effective...."
   ]
  },
  {
   "cell_type": "markdown",
   "metadata": {},
   "source": [
    "The very first step in fitting $XGBoost$ to the $Training$ $Data$ is to make an initial prediction. "
   ]
  },
  {
   "cell_type": "markdown",
   "metadata": {},
   "source": [
    "This prediction can be anything for example the $probability$ of observation an effective dosage in the $Training$ $Data$ ,but by default it is $0.5$ regardless of whether you are using $XGBoost$ for $Regression$ or $Classification$."
   ]
  },
  {
   "cell_type": "markdown",
   "metadata": {},
   "source": [
    "In other words regardless of the $Dosage$, the default prediction is that there is a $50$% chance the drug is $Effective$."
   ]
  },
  {
   "cell_type": "markdown",
   "metadata": {},
   "source": [
    "we can illustrate the initial prediction by adding a $y-axis$ to our graph to represent the $Probability$ $that$ $the$ $drug$ $is$ $effective$"
   ]
  },
  {
   "cell_type": "markdown",
   "metadata": {},
   "source": [
    "and drawing a $thick$ $black$ $line$ $at$ $0.5$ chance that the drug is effective."
   ]
  },
  {
   "cell_type": "markdown",
   "metadata": {},
   "source": [
    "since these two green dots represent effective dosages  we will move them to top of the graph where the $probability$ that the drug is effective is $1$."
   ]
  },
  {
   "cell_type": "markdown",
   "metadata": {},
   "source": [
    "these two $Red$ $Dots$ represent ineffective dosages so we will leave them at  the bottom of the graph where the $probability$ $that$ $the$ $drug$ $is$ $effective$ is $0$."
   ]
  },
  {
   "cell_type": "code",
   "execution_count": 1,
   "metadata": {},
   "outputs": [],
   "source": [
    "## draw thw data point on the graph"
   ]
  },
  {
   "cell_type": "code",
   "execution_count": null,
   "metadata": {},
   "outputs": [],
   "source": []
  },
  {
   "cell_type": "markdown",
   "metadata": {},
   "source": [
    "The $Residual$ the differences between the $observation$ and $predicted$ values show as how good the initial  prediction is."
   ]
  },
  {
   "cell_type": "markdown",
   "metadata": {},
   "source": [
    "Now just like we did for $regression$ we fit an $XGBoost$ $Tree$ to the $Residuals$.."
   ]
  },
  {
   "cell_type": "markdown",
   "metadata": {},
   "source": [
    "however , since we are using $XGBoost$ for $classification$ we have a new formula for the $Similarity$ $Scores$."
   ]
  },
  {
   "cell_type": "markdown",
   "metadata": {},
   "source": [
    "\\begin{equation}\n",
    "similarity score= \\frac{(\\sum Residual_{i})^2}{[Previous Probability_{i} * (1 - Previous Probability_{i})] + {\\lambda}}\n",
    "\\end{equation}"
   ]
  },
  {
   "cell_type": "markdown",
   "metadata": {},
   "source": [
    "$Note:$ - Even though the numerator looks fancy ,it's just the $sum$ $of$ $the$ $Residuals$, $Squared$.. "
   ]
  },
  {
   "cell_type": "markdown",
   "metadata": {},
   "source": [
    "In other words the numerator for $Classification$ is the same as the numerator for $Regression$."
   ]
  },
  {
   "cell_type": "markdown",
   "metadata": {},
   "source": [
    "And just like for $Regression$ the Denominator contain ${\\lambda}$(lambda) , the $Regularization$ $Parameter$.."
   ]
  },
  {
   "cell_type": "markdown",
   "metadata": {},
   "source": [
    "however the rest of the denominator is different .."
   ]
  },
  {
   "cell_type": "markdown",
   "metadata": {},
   "source": [
    "The good news is that we already saw something just like this is regular unextreme $Gradient$ $Boost$."
   ]
  },
  {
   "cell_type": "markdown",
   "metadata": {},
   "source": [
    "${\\sum}$ it's just the sum for each observation... of the previous predicted probability times $1$ minus previous predicted probability ."
   ]
  },
  {
   "cell_type": "code",
   "execution_count": null,
   "metadata": {},
   "outputs": [],
   "source": []
  },
  {
   "cell_type": "markdown",
   "metadata": {},
   "source": [
    "Now let's Build a tree... "
   ]
  },
  {
   "cell_type": "markdown",
   "metadata": {},
   "source": [
    "just like for $Regression$ , each tree starts out as a single leaf..."
   ]
  },
  {
   "cell_type": "markdown",
   "metadata": {},
   "source": [
    "and all of the $Residuals$ go to the leaf.."
   ]
  },
  {
   "cell_type": "markdown",
   "metadata": {},
   "source": [
    "now we need to calculate the $Similarity$ $Score$ for the leaf..."
   ]
  },
  {
   "cell_type": "markdown",
   "metadata": {},
   "source": [
    "\\begin{equation}\n",
    "similarity score= \\frac{(\\sum Residual_{i})^2}{[Previous Probability_{i} * (1 - Previous Probability_{i})] + {\\lambda}}\n",
    "\\end{equation}"
   ]
  },
  {
   "cell_type": "markdown",
   "metadata": {},
   "source": [
    "And that means we plug all $4$ $Residuals$ into the numerator..."
   ]
  },
  {
   "cell_type": "markdown",
   "metadata": {},
   "source": [
    "\\begin{equation}\n",
    "similarity score= \\frac{(-0.5+0.5-0.5+0.5)^2}{[Previous Probability_{i} * (1 - Previous Probability_{i})] + {\\lambda}}\n",
    "\\end{equation}"
   ]
  },
  {
   "cell_type": "markdown",
   "metadata": {},
   "source": [
    "$Note:$ Because we do not square the $Residuals$ before we add them together , they will cancel each other out..."
   ]
  },
  {
   "cell_type": "markdown",
   "metadata": {},
   "source": [
    "\\begin{equation}\n",
    "similarity score= \\frac{0}{[Previous Probability_{i} * (1 - Previous Probability_{i})] + {\\lambda}}\n",
    "\\end{equation}"
   ]
  },
  {
   "cell_type": "markdown",
   "metadata": {},
   "source": [
    "and we will end up with $0$ in the numerator and that makes the $Similarity$ $Score$ is $0$."
   ]
  },
  {
   "cell_type": "markdown",
   "metadata": {},
   "source": [
    "Now we need to decide if we can do a better job clustering $Similar$ $Residuals$ if we split them into two groups."
   ]
  },
  {
   "cell_type": "markdown",
   "metadata": {},
   "source": [
    "We will start with  the threshold $Dosage$ < $15$."
   ]
  },
  {
   "cell_type": "markdown",
   "metadata": {},
   "source": [
    "$Note:-$ We chose the threshold $Dosage$ < $15$ , because $15$ is the average value between last two observation."
   ]
  },
  {
   "cell_type": "markdown",
   "metadata": {},
   "source": [
    "Thus, the three $Residuals$ with $Dosage$ < $15$ go to leaf on the left.."
   ]
  },
  {
   "cell_type": "markdown",
   "metadata": {},
   "source": [
    "and one $Residual$ with $Dosage$ > $15$ go to leaf on the right.."
   ]
  },
  {
   "cell_type": "markdown",
   "metadata": {},
   "source": [
    "To calculate the $Similarity$ $Score$ for the three $Residuals$ that ends up in the leaf on the left..."
   ]
  },
  {
   "cell_type": "markdown",
   "metadata": {},
   "source": [
    "\\begin{equation}\n",
    "similarity score= \\frac{(\\sum Residual_{i})^2}{[Previous Probability_{i} * (1 - Previous Probability_{i})] + {\\lambda}}\n",
    "\\end{equation}"
   ]
  },
  {
   "cell_type": "markdown",
   "metadata": {},
   "source": [
    "\\begin{equation}\n",
    "similarity score= \\frac{(-0.5 + 0.5 + 0.5)^2}{[Previous Probability_{i} * (1 - Previous Probability_{i})] + {\\lambda}}\n",
    "\\end{equation}"
   ]
  },
  {
   "cell_type": "markdown",
   "metadata": {},
   "source": [
    "\\begin{equation}\n",
    "similarity score= \\frac{(-0.5 + 0.5 + 0.5)^2}{[0.5*0.5 + 0.5*0.5 + 0.5*0.5] + {\\lambda}}\n",
    "\\end{equation}"
   ]
  },
  {
   "cell_type": "markdown",
   "metadata": {},
   "source": [
    "Now just to keep things simple we will at ${\\lambda}$ = $0$ , However you know from $regression$ that (lambda) reduces the $Similarity$ $Score$ which ultimately makes leaves easier to prune."
   ]
  },
  {
   "cell_type": "markdown",
   "metadata": {},
   "source": [
    "\\begin{equation}\n",
    "similarity score= \\frac{(-0.5 + 0.5 + 0.5)^2}{[0.5*0.5 + 0.5*0.5 + 0.5*0.5] + 0}\n",
    "\\end{equation}"
   ]
  },
  {
   "cell_type": "markdown",
   "metadata": {},
   "source": [
    "\\begin{equation}\n",
    "similarity score= \\frac{( 0.5)^2}{[0.5*0.5 + 0.5*0.5 + 0.5*0.5] + 0}\n",
    "\\end{equation}"
   ]
  },
  {
   "cell_type": "markdown",
   "metadata": {},
   "source": [
    "\\begin{equation}\n",
    "similarity score= 0.33\n",
    "\\end{equation}"
   ]
  },
  {
   "cell_type": "markdown",
   "metadata": {},
   "source": [
    "The $Similarity$ $Score$ leaf on the right is .."
   ]
  },
  {
   "cell_type": "markdown",
   "metadata": {},
   "source": [
    "\\begin{equation}\n",
    "similarity score= \\frac{(\\sum Residual_{i})^2}{[Previous Probability_{i} * (1 - Previous Probability_{i})] + {\\lambda}}\n",
    "\\end{equation}"
   ]
  },
  {
   "cell_type": "markdown",
   "metadata": {},
   "source": [
    "\\begin{equation}\n",
    "similarity score= \\frac{(-0.5)^2}{[Previous Probability_{i} * (1 - Previous Probability_{i})] + {\\lambda}}\n",
    "\\end{equation}"
   ]
  },
  {
   "cell_type": "markdown",
   "metadata": {},
   "source": [
    "\\begin{equation}\n",
    "similarity score= \\frac{(-0.5)^2}{[0.5*0.5] + 0}\n",
    "\\end{equation}"
   ]
  },
  {
   "cell_type": "markdown",
   "metadata": {},
   "source": [
    "\\begin{equation}\n",
    "similarity score= 1\n",
    "\\end{equation}"
   ]
  },
  {
   "cell_type": "markdown",
   "metadata": {},
   "source": [
    "Now we calculate the $Gain$ , just like we did when we used $XGBoost$ for $Regression$.."
   ]
  },
  {
   "cell_type": "markdown",
   "metadata": {},
   "source": [
    "\\begin{equation}\n",
    "Gain = Left_{similarity} + Right_{similarity} - Root_{similarity}\n",
    "\\end{equation}"
   ]
  },
  {
   "cell_type": "markdown",
   "metadata": {},
   "source": [
    "\\begin{equation}\n",
    "Gain = 0.33 + 1 - 0\n",
    "\\end{equation}"
   ]
  },
  {
   "cell_type": "markdown",
   "metadata": {},
   "source": [
    "\\begin{equation}\n",
    "Gain = 1.33  \n",
    "\\end{equation}"
   ]
  },
  {
   "cell_type": "markdown",
   "metadata": {},
   "source": [
    "So when we split the observation  based on the threshold $Dosage$ < $15$ , $Gain$ = $1.33$."
   ]
  },
  {
   "cell_type": "markdown",
   "metadata": {},
   "source": [
    "I am going to tell you that no other threshold give us a larger $Gain$ $value$."
   ]
  },
  {
   "cell_type": "markdown",
   "metadata": {},
   "source": [
    "and that means $Dosage$ < $15$  will be the first branch in our tree."
   ]
  },
  {
   "cell_type": "code",
   "execution_count": 7,
   "metadata": {},
   "outputs": [],
   "source": [
    "# # drwa upto that tree..."
   ]
  },
  {
   "cell_type": "code",
   "execution_count": null,
   "metadata": {},
   "outputs": [],
   "source": []
  },
  {
   "cell_type": "markdown",
   "metadata": {},
   "source": [
    "Now we will focus on splitting  these $Residuals$ into two leaves."
   ]
  },
  {
   "cell_type": "markdown",
   "metadata": {},
   "source": [
    "$Note-:$ we can tell just by looking at the data that this threshold $Dosage$ < $5$ Has a higher $Gain$ than this  threshold $Dosage$ < 10."
   ]
  },
  {
   "cell_type": "markdown",
   "metadata": {},
   "source": [
    "This is becasue when the threshold is $Dosage$ < $10$ , these two $Residuals$ will cancel each other out."
   ]
  },
  {
   "cell_type": "markdown",
   "metadata": {},
   "source": [
    "and the $Similarity$ $Score$ for this leaf will be $0$, so when we calculate the $Gain$ , we get.."
   ]
  },
  {
   "cell_type": "markdown",
   "metadata": {},
   "source": [
    "\\begin{equation}\n",
    "Gain = Left_{similarity} + Right_{similarity} - Root_{similarity}\n",
    "\\end{equation}"
   ]
  },
  {
   "cell_type": "markdown",
   "metadata": {},
   "source": [
    "\\begin{equation}\n",
    "Gain = 0 +1 - 0.33\n",
    "\\end{equation}"
   ]
  },
  {
   "cell_type": "markdown",
   "metadata": {},
   "source": [
    "\\begin{equation}\n",
    "Gain = 0.66\n",
    "\\end{equation}"
   ]
  },
  {
   "cell_type": "markdown",
   "metadata": {},
   "source": [
    "Now let's compare that to the $Gain$  we get when the threshold is $Dosage$ < 5."
   ]
  },
  {
   "cell_type": "markdown",
   "metadata": {},
   "source": [
    "The $Similarity$ $Score$ for leaf on the leaf is.."
   ]
  },
  {
   "cell_type": "markdown",
   "metadata": {},
   "source": [
    "\\begin{equation}\n",
    "similarity score= \\frac{(\\sum Residual_{i})^2}{[Previous Probability_{i} * (1 - Previous Probability_{i})] + {\\lambda}}\n",
    "\\end{equation}"
   ]
  },
  {
   "cell_type": "markdown",
   "metadata": {},
   "source": [
    "\\begin{equation}\n",
    "similarity score= \\frac{(-0.5)^2}{[0.5*0.5] + 0}\n",
    "\\end{equation}"
   ]
  },
  {
   "cell_type": "markdown",
   "metadata": {},
   "source": [
    "\\begin{equation}\n",
    "similarity score= 1 \n",
    "\\end{equation}"
   ]
  },
  {
   "cell_type": "markdown",
   "metadata": {},
   "source": [
    "The $Similarity$ $Score$ for leaf on the right is.."
   ]
  },
  {
   "cell_type": "markdown",
   "metadata": {},
   "source": [
    "\\begin{equation}\n",
    "similarity score= \\frac{(\\sum Residual_{i})^2}{[Previous Probability_{i} * (1 - Previous Probability_{i})] + {\\lambda}}\n",
    "\\end{equation}"
   ]
  },
  {
   "cell_type": "markdown",
   "metadata": {},
   "source": [
    "\\begin{equation}\n",
    "similarity score= \\frac{(0.5+0.5)^2}{[0.5*0.5+0.5*0.5] + 0}\n",
    "\\end{equation}"
   ]
  },
  {
   "cell_type": "markdown",
   "metadata": {},
   "source": [
    "\\begin{equation}\n",
    "similarity score= 2\n",
    "\\end{equation}"
   ]
  },
  {
   "cell_type": "markdown",
   "metadata": {},
   "source": [
    "Then we calculate the $Gain$ of this branch we get..."
   ]
  },
  {
   "cell_type": "markdown",
   "metadata": {},
   "source": [
    "\\begin{equation}\n",
    "Gain = Left_{similarity} + Right_{similarity} - Root_{similarity}\n",
    "\\end{equation}"
   ]
  },
  {
   "cell_type": "markdown",
   "metadata": {},
   "source": [
    "\\begin{equation}\n",
    "Gain = 1 + 2 - 0.33\n",
    "\\end{equation}"
   ]
  },
  {
   "cell_type": "markdown",
   "metadata": {},
   "source": [
    "\\begin{equation}\n",
    "Gain = 2.66\n",
    "\\end{equation}"
   ]
  },
  {
   "cell_type": "markdown",
   "metadata": {},
   "source": [
    "And since $2.66$>$0.66$ we will use $Dosage$ < 5 as the threshold for this branch."
   ]
  },
  {
   "cell_type": "markdown",
   "metadata": {},
   "source": [
    "Now since i am limiting trees to $2$ levels we will not split this leaf any further , and we are done building this tree."
   ]
  },
  {
   "cell_type": "markdown",
   "metadata": {},
   "source": [
    "$Note-:$ we stopped growing this tree because we limited the number of levels to $2$..."
   ]
  },
  {
   "cell_type": "markdown",
   "metadata": {},
   "source": [
    "However , $XGBoost$ also has a threshold for the minimum number of $Residuals$ in each leaf..."
   ]
  },
  {
   "cell_type": "markdown",
   "metadata": {},
   "source": [
    "The  minimum number of $Residuals$ in each leaf is determined by calculating something called $Cover$."
   ]
  },
  {
   "cell_type": "markdown",
   "metadata": {},
   "source": [
    "$Cover$ is defined as the denominator of the $Similarity$ $Score$ minus ${\\lambda}$(lambda)."
   ]
  },
  {
   "cell_type": "markdown",
   "metadata": {},
   "source": [
    "\\begin{equation}\n",
    "Cover  = \\sum[Previous Probability * (1 - Previous Probability)] + {\\lambda}  - {\\lambda}\n",
    "\\end{equation}"
   ]
  },
  {
   "cell_type": "markdown",
   "metadata": {},
   "source": [
    "In other words when we are using $XGBoost$ for $Classification$...."
   ]
  },
  {
   "cell_type": "markdown",
   "metadata": {},
   "source": [
    "\\begin{equation}\n",
    "Cover  = \\sum[Previous Probability * (1 - Previous Probability)]\n",
    "\\end{equation}"
   ]
  },
  {
   "cell_type": "markdown",
   "metadata": {},
   "source": [
    "In contrast , when $XGBoost$ is used for $Regression $ and we are using this formula for the $Similarity$ $Score$.."
   ]
  },
  {
   "cell_type": "markdown",
   "metadata": {},
   "source": [
    "\\begin{equation}\n",
    "Similarity Score = \\frac{Sum Of Residulas, Squared}{Number Of Residuals + {\\lambda}}\n",
    "\\end{equation}"
   ]
  },
  {
   "cell_type": "markdown",
   "metadata": {},
   "source": [
    "then $Cover$ is equal to.."
   ]
  },
  {
   "cell_type": "markdown",
   "metadata": {},
   "source": [
    "\\begin{equation}\n",
    "Cover = [Number Of Residuals]\n",
    "\\end{equation}"
   ]
  },
  {
   "cell_type": "markdown",
   "metadata": {},
   "source": [
    "By default ,the minimum value for $Cover$ is $1$.."
   ]
  },
  {
   "cell_type": "markdown",
   "metadata": {},
   "source": [
    "Thus by default , when we use $XGBoost$ for $Regression$ , we can have as few as $1$ $Residual$ per leaf.."
   ]
  },
  {
   "cell_type": "markdown",
   "metadata": {},
   "source": [
    "In other words when we use $XGBoost$ for $Regression$ and use the default minimum value for $Cover$ , $Cover $ has no effect on how we grow the tree.."
   ]
  },
  {
   "cell_type": "markdown",
   "metadata": {},
   "source": [
    "In a contrast  , things are way more complicated when we use $XGBoost$ for $Classification$ because $Cover $ depends on the $Previously$ $Predicted$ $Probability$ of each $Residual$ in a leaf."
   ]
  },
  {
   "cell_type": "code",
   "execution_count": 9,
   "metadata": {},
   "outputs": [],
   "source": [
    "## drwa the final three on basis of this threshold..."
   ]
  },
  {
   "cell_type": "code",
   "execution_count": null,
   "metadata": {},
   "outputs": [],
   "source": []
  },
  {
   "cell_type": "markdown",
   "metadata": {},
   "source": [
    "For example, the $Cover$ for this leaf(-0.5) is.."
   ]
  },
  {
   "cell_type": "markdown",
   "metadata": {},
   "source": [
    "\\begin{equation}\n",
    "Cover  = \\sum[Previous Probability * (1 - Previous Probability)]\n",
    "\\end{equation}"
   ]
  },
  {
   "cell_type": "markdown",
   "metadata": {},
   "source": [
    "\\begin{equation}\n",
    "Cover  = 0.5 * (1 - 0.5) \n",
    "\\end{equation}"
   ]
  },
  {
   "cell_type": "markdown",
   "metadata": {},
   "source": [
    "\\begin{equation}\n",
    "Cover  = 0.25\n",
    "\\end{equation}"
   ]
  },
  {
   "cell_type": "markdown",
   "metadata": {},
   "source": [
    "And since the default value for the minimum $Cover$ is $1$. $XGBoost$ would not allow this leaf(-0.5).."
   ]
  },
  {
   "cell_type": "markdown",
   "metadata": {},
   "source": [
    "likewise ,  $Cover$ for this leaf(0.5,0.5).."
   ]
  },
  {
   "cell_type": "markdown",
   "metadata": {},
   "source": [
    "\\begin{equation}\n",
    "Cover  = \\sum[Previous Probability * (1 - Previous Probability)]\n",
    "\\end{equation}"
   ]
  },
  {
   "cell_type": "markdown",
   "metadata": {},
   "source": [
    "\\begin{equation}\n",
    "Cover  = [0.5*(1-0.5) + 0.5*(1 - 0.5)]\n",
    "\\end{equation}"
   ]
  },
  {
   "cell_type": "markdown",
   "metadata": {},
   "source": [
    "\\begin{equation}\n",
    "Cover  = 0.25 + 0.25 = 0.5\n",
    "\\end{equation}"
   ]
  },
  {
   "cell_type": "markdown",
   "metadata": {},
   "source": [
    "so, by default $XGBoost$  would not allow this leaf either .. "
   ]
  },
  {
   "cell_type": "markdown",
   "metadata": {},
   "source": [
    "Since these leaves are not allowed, let's remove them."
   ]
  },
  {
   "cell_type": "code",
   "execution_count": 10,
   "metadata": {},
   "outputs": [],
   "source": [
    "## drwa the update tree.."
   ]
  },
  {
   "cell_type": "markdown",
   "metadata": {},
   "source": []
  },
  {
   "cell_type": "markdown",
   "metadata": {},
   "source": [
    "and go back to this leaf(-0.5,0.5,0.5).."
   ]
  },
  {
   "cell_type": "markdown",
   "metadata": {},
   "source": [
    "Because the previously predicted probability is the same for all three of these $Residuals$"
   ]
  },
  {
   "cell_type": "markdown",
   "metadata": {},
   "source": [
    "$Cover$ is just $3$ times the $Cover$ for one of the $Residuals$."
   ]
  },
  {
   "cell_type": "markdown",
   "metadata": {},
   "source": [
    "\\begin{equation}\n",
    "Cover  = \\sum[Previous Probability * (1 - Previous Probability)]\n",
    "\\end{equation}"
   ]
  },
  {
   "cell_type": "markdown",
   "metadata": {},
   "source": [
    "\\begin{equation}\n",
    "Cover  = 3*[0.5*(1-0.5)]\n",
    "\\end{equation}"
   ]
  },
  {
   "cell_type": "markdown",
   "metadata": {},
   "source": [
    "\\begin{equation}\n",
    "Cover  = 0.75\n",
    "\\end{equation}"
   ]
  },
  {
   "cell_type": "markdown",
   "metadata": {},
   "source": [
    "so $XGBoost$ would not allow this leaf either."
   ]
  },
  {
   "cell_type": "markdown",
   "metadata": {},
   "source": [
    "Ultimately, if we used the default minimum valuesn for $Cover$, $1$, then we would be left with the $Root$,and  $XGBoost$ requires trees to be larger than just the $Root$."
   ]
  },
  {
   "cell_type": "code",
   "execution_count": null,
   "metadata": {},
   "outputs": [],
   "source": []
  }
 ],
 "metadata": {
  "kernelspec": {
   "display_name": "Python 3",
   "language": "python",
   "name": "python3"
  },
  "language_info": {
   "codemirror_mode": {
    "name": "ipython",
    "version": 3
   },
   "file_extension": ".py",
   "mimetype": "text/x-python",
   "name": "python",
   "nbconvert_exporter": "python",
   "pygments_lexer": "ipython3",
   "version": "3.7.3"
  }
 },
 "nbformat": 4,
 "nbformat_minor": 2
}
