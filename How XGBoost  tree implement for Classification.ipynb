{
 "cells": [
  {
   "cell_type": "markdown",
   "metadata": {},
   "source": [
    "# XGBoost Tree for classification"
   ]
  },
  {
   "cell_type": "markdown",
   "metadata": {},
   "source": [
    "How XGBoost tree are built for classification"
   ]
  },
  {
   "cell_type": "markdown",
   "metadata": {},
   "source": [
    "However to keep the example from getting out of hand , we will use this super simple $Training$ $Data$ consisting of $4$ different $Drug$ $Dosages$."
   ]
  },
  {
   "cell_type": "code",
   "execution_count": 1,
   "metadata": {},
   "outputs": [],
   "source": [
    "## draw the data point of this task:"
   ]
  },
  {
   "cell_type": "code",
   "execution_count": null,
   "metadata": {},
   "outputs": [],
   "source": []
  },
  {
   "cell_type": "markdown",
   "metadata": {},
   "source": [
    "The Green  Dots indicates that the drug was effective..."
   ]
  },
  {
   "cell_type": "markdown",
   "metadata": {},
   "source": [
    "and the $Red$ Dots indicate that the drug was not effective...."
   ]
  },
  {
   "cell_type": "markdown",
   "metadata": {},
   "source": [
    "The very first step in fitting $XGBoost$ to the $Training$ $Data$ is to make an initial prediction. "
   ]
  },
  {
   "cell_type": "markdown",
   "metadata": {},
   "source": [
    "This prediction can be anything for example the $probability$ of observation an effective dosage in the $Training$ $Data$ ,but by default it is $0.5$ regardless of whether you are using $XGBoost$ for $Regression$ or $Classification$."
   ]
  },
  {
   "cell_type": "markdown",
   "metadata": {},
   "source": [
    "In other words regardless of the $Dosage$, the default prediction is that there is a $50$% chance the drug is $Effective$."
   ]
  },
  {
   "cell_type": "markdown",
   "metadata": {},
   "source": [
    "we can illustrate the initial prediction by adding a $y-axis$ to our graph to represent the $Probability$ $that$ $the$ $drug$ $is$ $effective$"
   ]
  },
  {
   "cell_type": "markdown",
   "metadata": {},
   "source": [
    "and drawing a $thick$ $black$ $line$ $at$ $0.5$ chance that the drug is effective."
   ]
  },
  {
   "cell_type": "markdown",
   "metadata": {},
   "source": [
    "since these two green dots represent effective dosages  we will move them to top of the graph where the $probability$ that the drug is effective is $1$."
   ]
  },
  {
   "cell_type": "markdown",
   "metadata": {},
   "source": [
    "these two $Red$ $Dots$ represent ineffective dosages so we will leave them at  the bottom of the graph where the $probability$ $that$ $the$ $drug$ $is$ $effective$ is $0$."
   ]
  },
  {
   "cell_type": "code",
   "execution_count": 1,
   "metadata": {},
   "outputs": [],
   "source": [
    "## draw thw data point on the graph"
   ]
  },
  {
   "cell_type": "code",
   "execution_count": null,
   "metadata": {},
   "outputs": [],
   "source": []
  },
  {
   "cell_type": "markdown",
   "metadata": {},
   "source": [
    "The $Residual$ the differences between the $observation$ and $predicted$ values show as how good the initial  prediction is."
   ]
  },
  {
   "cell_type": "markdown",
   "metadata": {},
   "source": [
    "Now just like we did for $regression$ we fit an $XGBoost$ $Tree$ to the $Residuals$.."
   ]
  },
  {
   "cell_type": "markdown",
   "metadata": {},
   "source": [
    "however , since we are using $XGBoost$ for $classification$ we have a new formula for the $Similarity$ $Scores$."
   ]
  },
  {
   "cell_type": "markdown",
   "metadata": {},
   "source": [
    "\\begin{equation}\n",
    "similarity score= \\frac{(\\sum Residual_{i})^2}{[Previous Probability_{i} * (1 - Previous Probability_{i})] + {\\lambda}}\n",
    "\\end{equation}"
   ]
  },
  {
   "cell_type": "markdown",
   "metadata": {},
   "source": [
    "$Note:$ - Even though the numerator looks fancy ,it's just the $sum$ $of$ $the$ $Residuals$, $Squared$.. "
   ]
  },
  {
   "cell_type": "markdown",
   "metadata": {},
   "source": [
    "In other words the numerator for $Classification$ is the same as the numerator for $Regression$."
   ]
  },
  {
   "cell_type": "markdown",
   "metadata": {},
   "source": [
    "And just like for $Regression$ the Denominator contain ${\\lambda}$(lambda) , the $Regularization$ $Parameter$.."
   ]
  },
  {
   "cell_type": "markdown",
   "metadata": {},
   "source": [
    "however the rest of the denominator is different .."
   ]
  },
  {
   "cell_type": "markdown",
   "metadata": {},
   "source": [
    "The good news is that we already saw something just like this is regular unextreme $Gradient$ $Boost$."
   ]
  },
  {
   "cell_type": "markdown",
   "metadata": {},
   "source": [
    "${\\sum}$ it's just the sum for each observation... of the previous predicted probability times $1$ minus previous predicted probability ."
   ]
  },
  {
   "cell_type": "code",
   "execution_count": null,
   "metadata": {},
   "outputs": [],
   "source": []
  },
  {
   "cell_type": "markdown",
   "metadata": {},
   "source": [
    "Now let's Build a tree... "
   ]
  },
  {
   "cell_type": "markdown",
   "metadata": {},
   "source": [
    "just like for $Regression$ , each tree starts out as a single leaf..."
   ]
  },
  {
   "cell_type": "markdown",
   "metadata": {},
   "source": [
    "and all of the $Residuals$ go to the leaf.."
   ]
  },
  {
   "cell_type": "markdown",
   "metadata": {},
   "source": [
    "now we need to calculate the $Similarity$ $Score$ for the leaf..."
   ]
  },
  {
   "cell_type": "markdown",
   "metadata": {},
   "source": [
    "\\begin{equation}\n",
    "similarity score= \\frac{(\\sum Residual_{i})^2}{[Previous Probability_{i} * (1 - Previous Probability_{i})] + {\\lambda}}\n",
    "\\end{equation}"
   ]
  },
  {
   "cell_type": "markdown",
   "metadata": {},
   "source": [
    "And that means we plug all $4$ $Residuals$ into the numerator..."
   ]
  },
  {
   "cell_type": "markdown",
   "metadata": {},
   "source": [
    "\\begin{equation}\n",
    "similarity score= \\frac{(-0.5+0.5-0.5+0.5)^2}{[Previous Probability_{i} * (1 - Previous Probability_{i})] + {\\lambda}}\n",
    "\\end{equation}"
   ]
  },
  {
   "cell_type": "markdown",
   "metadata": {},
   "source": [
    "$Note:$ Because we do not square the $Residuals$ before we add them together , they will cancel each other out..."
   ]
  },
  {
   "cell_type": "markdown",
   "metadata": {},
   "source": [
    "\\begin{equation}\n",
    "similarity score= \\frac{0}{[Previous Probability_{i} * (1 - Previous Probability_{i})] + {\\lambda}}\n",
    "\\end{equation}"
   ]
  },
  {
   "cell_type": "markdown",
   "metadata": {},
   "source": [
    "and we will end up with $0$ in the numerator and that makes the $Similarity$ $Score$ is $0$."
   ]
  },
  {
   "cell_type": "markdown",
   "metadata": {},
   "source": [
    "Now we need to decide if we can do a better job clustering $Similar$ $Residuals$ if we split them into two groups."
   ]
  },
  {
   "cell_type": "markdown",
   "metadata": {},
   "source": [
    "We will start with  the threshold $Dosage$ < $15$."
   ]
  },
  {
   "cell_type": "markdown",
   "metadata": {},
   "source": [
    "$Note:-$ We chose the threshold $Dosage$ < $15$ , because $15$ is the average value between last two observation."
   ]
  },
  {
   "cell_type": "markdown",
   "metadata": {},
   "source": [
    "Thus, the three $Residuals$ with $Dosage$ < $15$ go to leaf on the left.."
   ]
  },
  {
   "cell_type": "markdown",
   "metadata": {},
   "source": [
    "and one $Residual$ with $Dosage$ > $15$ go to leaf on the right.."
   ]
  },
  {
   "cell_type": "markdown",
   "metadata": {},
   "source": [
    "To calculate the $Similarity$ $Score$ for the three $Residuals$ that ends up in the leaf on the left..."
   ]
  },
  {
   "cell_type": "markdown",
   "metadata": {},
   "source": [
    "\\begin{equation}\n",
    "similarity score= \\frac{(\\sum Residual_{i})^2}{[Previous Probability_{i} * (1 - Previous Probability_{i})] + {\\lambda}}\n",
    "\\end{equation}"
   ]
  },
  {
   "cell_type": "markdown",
   "metadata": {},
   "source": [
    "\\begin{equation}\n",
    "similarity score= \\frac{(-0.5 + 0.5 + 0.5)^2}{[Previous Probability_{i} * (1 - Previous Probability_{i})] + {\\lambda}}\n",
    "\\end{equation}"
   ]
  },
  {
   "cell_type": "markdown",
   "metadata": {},
   "source": [
    "\\begin{equation}\n",
    "similarity score= \\frac{(-0.5 + 0.5 + 0.5)^2}{[0.5*0.5 + 0.5*0.5 + 0.5*0.5] + {\\lambda}}\n",
    "\\end{equation}"
   ]
  },
  {
   "cell_type": "markdown",
   "metadata": {},
   "source": [
    "Now just to keep things simple we will at ${\\lambda}$ = $0$ , However you know from $regression$ that (lambda) reduces the $Similarity$ $Score$ which ultimately makes leaves easier to prune."
   ]
  },
  {
   "cell_type": "markdown",
   "metadata": {},
   "source": [
    "\\begin{equation}\n",
    "similarity score= \\frac{(-0.5 + 0.5 + 0.5)^2}{[0.5*0.5 + 0.5*0.5 + 0.5*0.5] + 0}\n",
    "\\end{equation}"
   ]
  },
  {
   "cell_type": "markdown",
   "metadata": {},
   "source": [
    "\\begin{equation}\n",
    "similarity score= \\frac{( 0.5)^2}{[0.5*0.5 + 0.5*0.5 + 0.5*0.5] + 0}\n",
    "\\end{equation}"
   ]
  },
  {
   "cell_type": "markdown",
   "metadata": {},
   "source": [
    "\\begin{equation}\n",
    "similarity score= 0.33\n",
    "\\end{equation}"
   ]
  },
  {
   "cell_type": "markdown",
   "metadata": {},
   "source": [
    "The $Similarity$ $Score$ leaf on the right is .."
   ]
  },
  {
   "cell_type": "markdown",
   "metadata": {},
   "source": [
    "\\begin{equation}\n",
    "similarity score= \\frac{(\\sum Residual_{i})^2}{[Previous Probability_{i} * (1 - Previous Probability_{i})] + {\\lambda}}\n",
    "\\end{equation}"
   ]
  },
  {
   "cell_type": "markdown",
   "metadata": {},
   "source": [
    "\\begin{equation}\n",
    "similarity score= \\frac{(-0.5)^2}{[Previous Probability_{i} * (1 - Previous Probability_{i})] + {\\lambda}}\n",
    "\\end{equation}"
   ]
  },
  {
   "cell_type": "markdown",
   "metadata": {},
   "source": [
    "\\begin{equation}\n",
    "similarity score= \\frac{(-0.5)^2}{[0.5*0.5] + 0}\n",
    "\\end{equation}"
   ]
  },
  {
   "cell_type": "markdown",
   "metadata": {},
   "source": [
    "\\begin{equation}\n",
    "similarity score= 1\n",
    "\\end{equation}"
   ]
  },
  {
   "cell_type": "markdown",
   "metadata": {},
   "source": [
    "Now we calculate the $Gain$ , just like we did when we used $XGBoost$ for $Regression$.."
   ]
  },
  {
   "cell_type": "markdown",
   "metadata": {},
   "source": [
    "\\begin{equation}\n",
    "Gain = Left_{similarity} + Right_{similarity} - Root_{similarity}\n",
    "\\end{equation}"
   ]
  },
  {
   "cell_type": "markdown",
   "metadata": {},
   "source": [
    "\\begin{equation}\n",
    "Gain = 0.33 + 1 - 0\n",
    "\\end{equation}"
   ]
  },
  {
   "cell_type": "markdown",
   "metadata": {},
   "source": [
    "\\begin{equation}\n",
    "Gain = 1.33  \n",
    "\\end{equation}"
   ]
  },
  {
   "cell_type": "markdown",
   "metadata": {},
   "source": [
    "So when we split the observation  based on the threshold $Dosage$ < $15$ , $Gain$ = $1.33$."
   ]
  },
  {
   "cell_type": "markdown",
   "metadata": {},
   "source": [
    "I am going to tell you that no other threshold give us a larger $Gain$ $value$."
   ]
  },
  {
   "cell_type": "markdown",
   "metadata": {},
   "source": [
    "and that means $Dosage$ < $15$  will be the first branch in our tree."
   ]
  },
  {
   "cell_type": "code",
   "execution_count": 7,
   "metadata": {},
   "outputs": [],
   "source": [
    "# # drwa upto that tree..."
   ]
  },
  {
   "cell_type": "code",
   "execution_count": null,
   "metadata": {},
   "outputs": [],
   "source": []
  },
  {
   "cell_type": "markdown",
   "metadata": {},
   "source": [
    "Now we will focus on splitting  these $Residuals$ into two leaves."
   ]
  },
  {
   "cell_type": "markdown",
   "metadata": {},
   "source": [
    "$Note-:$ we can tell just by looking at the data that this threshold $Dosage$ < $5$ Has a higher $Gain$ than this  threshold $Dosage$ < 10."
   ]
  },
  {
   "cell_type": "markdown",
   "metadata": {},
   "source": [
    "This is becasue when the threshold is $Dosage$ < $10$ , these two $Residuals$ will cancel each other out."
   ]
  },
  {
   "cell_type": "markdown",
   "metadata": {},
   "source": [
    "and the $Similarity$ $Score$ for this leaf will be $0$, so when we calculate the $Gain$ , we get.."
   ]
  },
  {
   "cell_type": "markdown",
   "metadata": {},
   "source": [
    "\\begin{equation}\n",
    "Gain = Left_{similarity} + Right_{similarity} - Root_{similarity}\n",
    "\\end{equation}"
   ]
  },
  {
   "cell_type": "markdown",
   "metadata": {},
   "source": [
    "\\begin{equation}\n",
    "Gain = 0 +1 - 0.33\n",
    "\\end{equation}"
   ]
  },
  {
   "cell_type": "markdown",
   "metadata": {},
   "source": [
    "\\begin{equation}\n",
    "Gain = 0.66\n",
    "\\end{equation}"
   ]
  },
  {
   "cell_type": "markdown",
   "metadata": {},
   "source": [
    "Now let's compare that to the $Gain$  we get when the threshold is $Dosage$ < 5."
   ]
  },
  {
   "cell_type": "markdown",
   "metadata": {},
   "source": [
    "The $Similarity$ $Score$ for leaf on the leaf is.."
   ]
  },
  {
   "cell_type": "markdown",
   "metadata": {},
   "source": [
    "\\begin{equation}\n",
    "similarity score= \\frac{(\\sum Residual_{i})^2}{[Previous Probability_{i} * (1 - Previous Probability_{i})] + {\\lambda}}\n",
    "\\end{equation}"
   ]
  },
  {
   "cell_type": "markdown",
   "metadata": {},
   "source": [
    "\\begin{equation}\n",
    "similarity score= \\frac{(-0.5)^2}{[0.5*0.5] + 0}\n",
    "\\end{equation}"
   ]
  },
  {
   "cell_type": "markdown",
   "metadata": {},
   "source": [
    "\\begin{equation}\n",
    "similarity score= 1 \n",
    "\\end{equation}"
   ]
  },
  {
   "cell_type": "markdown",
   "metadata": {},
   "source": [
    "The $Similarity$ $Score$ for leaf on the right is.."
   ]
  },
  {
   "cell_type": "markdown",
   "metadata": {},
   "source": [
    "\\begin{equation}\n",
    "similarity score= \\frac{(\\sum Residual_{i})^2}{[Previous Probability_{i} * (1 - Previous Probability_{i})] + {\\lambda}}\n",
    "\\end{equation}"
   ]
  },
  {
   "cell_type": "markdown",
   "metadata": {},
   "source": [
    "\\begin{equation}\n",
    "similarity score= \\frac{(0.5+0.5)^2}{[0.5*0.5+0.5*0.5] + 0}\n",
    "\\end{equation}"
   ]
  },
  {
   "cell_type": "markdown",
   "metadata": {},
   "source": [
    "\\begin{equation}\n",
    "similarity score= 2\n",
    "\\end{equation}"
   ]
  },
  {
   "cell_type": "markdown",
   "metadata": {},
   "source": [
    "Then we calculate the $Gain$ of this branch we get..."
   ]
  },
  {
   "cell_type": "markdown",
   "metadata": {},
   "source": [
    "\\begin{equation}\n",
    "Gain = Left_{similarity} + Right_{similarity} - Root_{similarity}\n",
    "\\end{equation}"
   ]
  },
  {
   "cell_type": "markdown",
   "metadata": {},
   "source": [
    "\\begin{equation}\n",
    "Gain = 1 + 2 - 0.33\n",
    "\\end{equation}"
   ]
  },
  {
   "cell_type": "markdown",
   "metadata": {},
   "source": [
    "\\begin{equation}\n",
    "Gain = 2.66\n",
    "\\end{equation}"
   ]
  },
  {
   "cell_type": "markdown",
   "metadata": {},
   "source": [
    "And since $2.66$>$0.66$ we will use $Dosage$ < 5 as the threshold for this branch."
   ]
  },
  {
   "cell_type": "markdown",
   "metadata": {},
   "source": [
    "Now since i am limiting trees to $2$ levels we will not split this leaf any further , and we are done building this tree."
   ]
  },
  {
   "cell_type": "markdown",
   "metadata": {},
   "source": [
    "$Note-:$ we stopped growing this tree because we limited the number of levels to $2$..."
   ]
  },
  {
   "cell_type": "markdown",
   "metadata": {},
   "source": [
    "However , $XGBoost$ also has a threshold for the minimum number of $Residuals$ in each leaf..."
   ]
  },
  {
   "cell_type": "markdown",
   "metadata": {},
   "source": [
    "The  minimum number of $Residuals$ in each leaf is determined by calculating something called $Cover$."
   ]
  },
  {
   "cell_type": "markdown",
   "metadata": {},
   "source": [
    "$Cover$ is defined as the denominator of the $Similarity$ $Score$ minus ${\\lambda}$(lambda)."
   ]
  },
  {
   "cell_type": "markdown",
   "metadata": {},
   "source": [
    "\\begin{equation}\n",
    "Cover  = \\sum[Previous Probability * (1 - Previous Probability)] + {\\lambda}  - {\\lambda}\n",
    "\\end{equation}"
   ]
  },
  {
   "cell_type": "markdown",
   "metadata": {},
   "source": [
    "In other words when we are using $XGBoost$ for $Classification$...."
   ]
  },
  {
   "cell_type": "markdown",
   "metadata": {},
   "source": [
    "\\begin{equation}\n",
    "Cover  = \\sum[Previous Probability * (1 - Previous Probability)]\n",
    "\\end{equation}"
   ]
  },
  {
   "cell_type": "markdown",
   "metadata": {},
   "source": [
    "In contrast , when $XGBoost$ is used for $Regression $ and we are using this formula for the $Similarity$ $Score$.."
   ]
  },
  {
   "cell_type": "markdown",
   "metadata": {},
   "source": [
    "\\begin{equation}\n",
    "Similarity Score = \\frac{Sum Of Residulas, Squared}{Number Of Residuals + {\\lambda}}\n",
    "\\end{equation}"
   ]
  },
  {
   "cell_type": "markdown",
   "metadata": {},
   "source": [
    "then $Cover$ is equal to.."
   ]
  },
  {
   "cell_type": "markdown",
   "metadata": {},
   "source": [
    "\\begin{equation}\n",
    "Cover = [Number Of Residuals]\n",
    "\\end{equation}"
   ]
  },
  {
   "cell_type": "markdown",
   "metadata": {},
   "source": [
    "By default ,the minimum value for $Cover$ is $1$.."
   ]
  },
  {
   "cell_type": "markdown",
   "metadata": {},
   "source": [
    "Thus by default , when we use $XGBoost$ for $Regression$ , we can have as few as $1$ $Residual$ per leaf.."
   ]
  },
  {
   "cell_type": "markdown",
   "metadata": {},
   "source": [
    "In other words when we use $XGBoost$ for $Regression$ and use the default minimum value for $Cover$ , $Cover $ has no effect on how we grow the tree.."
   ]
  },
  {
   "cell_type": "markdown",
   "metadata": {},
   "source": [
    "In a contrast  , things are way more complicated when we use $XGBoost$ for $Classification$ because $Cover $ depends on the $Previously$ $Predicted$ $Probability$ of each $Residual$ in a leaf."
   ]
  },
  {
   "cell_type": "code",
   "execution_count": 9,
   "metadata": {},
   "outputs": [],
   "source": [
    "## drwa the final three on basis of this threshold..."
   ]
  },
  {
   "cell_type": "code",
   "execution_count": null,
   "metadata": {},
   "outputs": [],
   "source": []
  },
  {
   "cell_type": "markdown",
   "metadata": {},
   "source": [
    "For example, the $Cover$ for this leaf(-0.5) is.."
   ]
  },
  {
   "cell_type": "markdown",
   "metadata": {},
   "source": [
    "\\begin{equation}\n",
    "Cover  = \\sum[Previous Probability * (1 - Previous Probability)]\n",
    "\\end{equation}"
   ]
  },
  {
   "cell_type": "markdown",
   "metadata": {},
   "source": [
    "\\begin{equation}\n",
    "Cover  = 0.5 * (1 - 0.5) \n",
    "\\end{equation}"
   ]
  },
  {
   "cell_type": "markdown",
   "metadata": {},
   "source": [
    "\\begin{equation}\n",
    "Cover  = 0.25\n",
    "\\end{equation}"
   ]
  },
  {
   "cell_type": "markdown",
   "metadata": {},
   "source": [
    "And since the default value for the minimum $Cover$ is $1$. $XGBoost$ would not allow this leaf(-0.5).."
   ]
  },
  {
   "cell_type": "markdown",
   "metadata": {},
   "source": [
    "likewise ,  $Cover$ for this leaf(0.5,0.5).."
   ]
  },
  {
   "cell_type": "markdown",
   "metadata": {},
   "source": [
    "\\begin{equation}\n",
    "Cover  = \\sum[Previous Probability * (1 - Previous Probability)]\n",
    "\\end{equation}"
   ]
  },
  {
   "cell_type": "markdown",
   "metadata": {},
   "source": [
    "\\begin{equation}\n",
    "Cover  = [0.5*(1-0.5) + 0.5*(1 - 0.5)]\n",
    "\\end{equation}"
   ]
  },
  {
   "cell_type": "markdown",
   "metadata": {},
   "source": [
    "\\begin{equation}\n",
    "Cover  = 0.25 + 0.25 = 0.5\n",
    "\\end{equation}"
   ]
  },
  {
   "cell_type": "markdown",
   "metadata": {},
   "source": [
    "so, by default $XGBoost$  would not allow this leaf either .. "
   ]
  },
  {
   "cell_type": "markdown",
   "metadata": {},
   "source": [
    "Since these leaves are not allowed, let's remove them."
   ]
  },
  {
   "cell_type": "code",
   "execution_count": 10,
   "metadata": {},
   "outputs": [],
   "source": [
    "## drwa the update tree.."
   ]
  },
  {
   "cell_type": "markdown",
   "metadata": {},
   "source": []
  },
  {
   "cell_type": "markdown",
   "metadata": {},
   "source": [
    "and go back to this leaf(-0.5,0.5,0.5).."
   ]
  },
  {
   "cell_type": "markdown",
   "metadata": {},
   "source": [
    "Because the previously predicted probability is the same for all three of these $Residuals$"
   ]
  },
  {
   "cell_type": "markdown",
   "metadata": {},
   "source": [
    "$Cover$ is just $3$ times the $Cover$ for one of the $Residuals$."
   ]
  },
  {
   "cell_type": "markdown",
   "metadata": {},
   "source": [
    "\\begin{equation}\n",
    "Cover  = \\sum[Previous Probability * (1 - Previous Probability)]\n",
    "\\end{equation}"
   ]
  },
  {
   "cell_type": "markdown",
   "metadata": {},
   "source": [
    "\\begin{equation}\n",
    "Cover  = 3*[0.5*(1-0.5)]\n",
    "\\end{equation}"
   ]
  },
  {
   "cell_type": "markdown",
   "metadata": {},
   "source": [
    "\\begin{equation}\n",
    "Cover  = 0.75\n",
    "\\end{equation}"
   ]
  },
  {
   "cell_type": "markdown",
   "metadata": {},
   "source": [
    "so $XGBoost$ would not allow this leaf either."
   ]
  },
  {
   "cell_type": "markdown",
   "metadata": {},
   "source": [
    "Ultimately, if we used the default minimum valuesn for $Cover$, $1$, then we would be left with the $Root$,and  $XGBoost$ requires trees to be larger than just the $Root$."
   ]
  },
  {
   "cell_type": "markdown",
   "metadata": {},
   "source": [
    "so , in order to prevent this from begin the worst example ever , let's set the minimum value for $Cover$ = $0$"
   ]
  },
  {
   "cell_type": "markdown",
   "metadata": {},
   "source": [
    "That means setting the (min_child_weight) parameter equal to $0$."
   ]
  },
  {
   "cell_type": "markdown",
   "metadata": {},
   "source": [
    "# Now we talk about how to Prune the tree."
   ]
  },
  {
   "cell_type": "markdown",
   "metadata": {},
   "source": [
    "just like we did in $Regression$ , we $prune$ by calculating the difference between the $Gain$ associated with the lowest branch and a number pick for ${\\gamma}$ (gamma)."
   ]
  },
  {
   "cell_type": "markdown",
   "metadata": {},
   "source": [
    "\\begin{equation}\n",
    "Gain - {\\gamma}\n",
    "\\end{equation}"
   ]
  },
  {
   "cell_type": "code",
   "execution_count": 1,
   "metadata": {},
   "outputs": [],
   "source": [
    "## drow you final tree..."
   ]
  },
  {
   "cell_type": "code",
   "execution_count": null,
   "metadata": {},
   "outputs": [],
   "source": []
  },
  {
   "cell_type": "markdown",
   "metadata": {},
   "source": [
    "For example if we plugged in $Gain$ , and set ${\\gamma}$= $2$."
   ]
  },
  {
   "cell_type": "markdown",
   "metadata": {},
   "source": [
    "\\begin{equation}\n",
    "Gain - {\\gamma}\n",
    "\\end{equation}"
   ]
  },
  {
   "cell_type": "markdown",
   "metadata": {},
   "source": [
    "\\begin{equation}\n",
    "2.66 - 2 = 0.66 =postive\n",
    "\\end{equation}"
   ]
  },
  {
   "cell_type": "markdown",
   "metadata": {},
   "source": [
    "then we would not prune because the difference is a $postive$ number."
   ]
  },
  {
   "cell_type": "markdown",
   "metadata": {},
   "source": [
    "In contrast ${\\gamma}$ = $3$"
   ]
  },
  {
   "cell_type": "markdown",
   "metadata": {},
   "source": [
    "then we would prune because the differnce is a $negative$ number."
   ]
  },
  {
   "cell_type": "markdown",
   "metadata": {},
   "source": [
    "And we would also prune the branch,because... $Gain$ = $1.33$ and ${\\gamma}$ = $3$ and there difference is $negative$."
   ]
  },
  {
   "cell_type": "markdown",
   "metadata": {},
   "source": [
    "and all we would be left with is the original prediction."
   ]
  },
  {
   "cell_type": "markdown",
   "metadata": {},
   "source": [
    "Now going back to original tree."
   ]
  },
  {
   "cell_type": "code",
   "execution_count": 6,
   "metadata": {},
   "outputs": [],
   "source": [
    "## draw the tree..."
   ]
  },
  {
   "cell_type": "code",
   "execution_count": null,
   "metadata": {},
   "outputs": [],
   "source": []
  },
  {
   "cell_type": "markdown",
   "metadata": {},
   "source": [
    "remember from $Regression$ that ${\\lambda}$ (lambda) , the $Regularization$ $Parameter$,reduces the $Similarity$ $Scores$..."
   ]
  },
  {
   "cell_type": "markdown",
   "metadata": {},
   "source": [
    "and the lower $Similarity$ $Score$ result in lower values for $Gain$"
   ]
  },
  {
   "cell_type": "markdown",
   "metadata": {},
   "source": [
    "For example, if we set ${\\lambda}$(lambda) =$ 1$, then we will get these lower values for $Gain$.."
   ]
  },
  {
   "cell_type": "markdown",
   "metadata": {},
   "source": [
    "and that means a lower values for ${\\gamma}$ (gamma) will result in a negative difference and cause us to $prune$ branches."
   ]
  },
  {
   "cell_type": "markdown",
   "metadata": {},
   "source": [
    "In other words values for ${\\lambda}$ (lambda) greater than $0$ reduce the senstivity of the tree to individual observations by pruning and combining them with other observations."
   ]
  },
  {
   "cell_type": "markdown",
   "metadata": {},
   "source": [
    "For now, regardless of ${\\lambda}$ (lambda) and ${\\gamma}$ (gamma) , let's assume that this is  the tree we are working with.."
   ]
  },
  {
   "cell_type": "code",
   "execution_count": 7,
   "metadata": {},
   "outputs": [],
   "source": [
    "## drwa the final tree on which we are working with...."
   ]
  },
  {
   "cell_type": "code",
   "execution_count": null,
   "metadata": {},
   "outputs": [],
   "source": []
  },
  {
   "cell_type": "markdown",
   "metadata": {},
   "source": [
    "and determine the $Output$ $Values$ for the leaves."
   ]
  },
  {
   "cell_type": "markdown",
   "metadata": {},
   "source": [
    "For $Classification$ , the $Output$ $Value$  for a leaf is..."
   ]
  },
  {
   "cell_type": "markdown",
   "metadata": {},
   "source": [
    "\\begin{equation}\n",
    "Output Value= \\frac{(\\sum Residual_{i})}{[Previous Probability_{i} * (1 - Previous Probability_{i})] + {\\lambda}}\n",
    "\\end{equation}"
   ]
  },
  {
   "cell_type": "markdown",
   "metadata": {},
   "source": [
    "$Note:-$  With the exception of ${\\lambda}$ (lambda) , the $Regularization$ $Parameter$ , this is the same formula we used for unextreme $Gradient$ $Boost$.."
   ]
  },
  {
   "cell_type": "markdown",
   "metadata": {},
   "source": [
    "so for this leaf(-0.5).. we plug in the $Residual$ =  $-0.5$, and the previous predicted probability $(0.5)$ and the value for the $Regularization$ $Parameter$ , ${\\lambda}$ (lambda). "
   ]
  },
  {
   "cell_type": "markdown",
   "metadata": {},
   "source": [
    "\\begin{equation}\n",
    "Output Value= \\frac{(\\sum Residual_{i})}{[Previous Probability_{i} * (1 - Previous Probability_{i})] + {\\lambda}}\n",
    "\\end{equation}"
   ]
  },
  {
   "cell_type": "markdown",
   "metadata": {},
   "source": [
    "\\begin{equation}\n",
    "Output Value= \\frac{-0.5}{[0.5 * 0.5] + {\\lambda}}\n",
    "\\end{equation}"
   ]
  },
  {
   "cell_type": "markdown",
   "metadata": {},
   "source": [
    "if ${\\lambda}$ = $0$ then the no $Regularization$ and the $Output$ $Value$ is.."
   ]
  },
  {
   "cell_type": "markdown",
   "metadata": {},
   "source": [
    "\\begin{equation}\n",
    "Output Value= \\frac{-0.5}{[0.5 * 0.5] + 0}\n",
    "\\end{equation}"
   ]
  },
  {
   "cell_type": "markdown",
   "metadata": {},
   "source": [
    "\\begin{equation}\n",
    "Output Value = -2\n",
    "\\end{equation}"
   ]
  },
  {
   "cell_type": "markdown",
   "metadata": {},
   "source": [
    "On the other hand ${\\lambda}$ = $1$, then the $Output$ $Value$  = $-0.4$ , which is closed to zero than $-2$ , when ${\\lambda}$ = $0$."
   ]
  },
  {
   "cell_type": "markdown",
   "metadata": {},
   "source": [
    "\\begin{equation}\n",
    "Output Value= \\frac{-0.5}{[0.5 * 0.5] + 1}\n",
    "\\end{equation}"
   ]
  },
  {
   "cell_type": "markdown",
   "metadata": {},
   "source": [
    "\\begin{equation}\n",
    "Output Value= -0.4\n",
    "\\end{equation}"
   ]
  },
  {
   "cell_type": "markdown",
   "metadata": {},
   "source": [
    "In other words , when ${\\lambda}$ > $0$ then if reduces the amount that this single observation  adds to the new prediction."
   ]
  },
  {
   "cell_type": "markdown",
   "metadata": {},
   "source": [
    "Thus, ${\\lambda}$(lambda), the $Regularization$ $Parameter$,reduces the  prediction's  sensitivity  to isolated observations. "
   ]
  },
  {
   "cell_type": "markdown",
   "metadata": {},
   "source": [
    "For now we will let's $\\lambda$ = $0$ because this is the default value."
   ]
  },
  {
   "cell_type": "markdown",
   "metadata": {},
   "source": [
    "and put $-2$ under the leaf  so we will remember  it..."
   ]
  },
  {
   "cell_type": "markdown",
   "metadata": {},
   "source": [
    "Similarity , when ${\\lambda}$ = $0$ , the $Output$ $Value$  for this leaf(0.5,0.5).."
   ]
  },
  {
   "cell_type": "markdown",
   "metadata": {},
   "source": [
    "\\begin{equation}\n",
    "Output Value= \\frac{(\\sum Residual_{i})}{[Previous Probability_{i} * (1 - Previous Probability_{i})] + {\\lambda}}\n",
    "\\end{equation}"
   ]
  },
  {
   "cell_type": "markdown",
   "metadata": {},
   "source": [
    "\\begin{equation}\n",
    "Output Value= \\frac{(0.5+0.5)}{[0.5*0.5 + 0.5*0.5 ] + {\\lambda}}\n",
    "\\end{equation}"
   ]
  },
  {
   "cell_type": "markdown",
   "metadata": {},
   "source": [
    "\\begin{equation}\n",
    "Output Value= \\frac{(0.5+0.5)}{[0.5*0.5 + 0.5*0.5 ] + 0}\n",
    "\\end{equation}"
   ]
  },
  {
   "cell_type": "markdown",
   "metadata": {},
   "source": [
    "\\begin{equation}\n",
    "Output Value= 2\n",
    "\\end{equation}"
   ]
  },
  {
   "cell_type": "markdown",
   "metadata": {},
   "source": [
    "$Note:-$ if ${\\lambda}$ = $1$."
   ]
  },
  {
   "cell_type": "markdown",
   "metadata": {},
   "source": [
    "\\begin{equation}\n",
    "Output Value= \\frac{(0.5+0.5)}{[0.5*0.5 + 0.5*0.5 ] + {\\lambda}}\n",
    "\\end{equation}"
   ]
  },
  {
   "cell_type": "markdown",
   "metadata": {},
   "source": [
    "\\begin{equation}\n",
    "Output Value= \\frac{(0.5+0.5)}{[0.5*0.5 + 0.5*0.5 ] + 1}\n",
    "\\end{equation}"
   ]
  },
  {
   "cell_type": "markdown",
   "metadata": {},
   "source": [
    "\\begin{equation}\n",
    "Output Value= 0.67\n",
    "\\end{equation}"
   ]
  },
  {
   "cell_type": "markdown",
   "metadata": {},
   "source": [
    "we get $0.67$ which is closer to $0$.."
   ]
  },
  {
   "cell_type": "markdown",
   "metadata": {},
   "source": [
    "but the effect of ${\\lambda}$ is smaller this time because there are two observations in this leaf.."
   ]
  },
  {
   "cell_type": "markdown",
   "metadata": {},
   "source": [
    "But like I said we will let ${\\lambda}$ = $0$ since that is the default value..and put $2$ under the leaf so we will remember it ."
   ]
  },
  {
   "cell_type": "markdown",
   "metadata": {},
   "source": [
    "Lastly , when ${\\lambda}$ = 0 ,the $Output$ $Value$ for this leaf(-0.5) is..."
   ]
  },
  {
   "cell_type": "markdown",
   "metadata": {},
   "source": [
    "\\begin{equation}\n",
    "Output Value= \\frac{(\\sum Residual_{i})}{[Previous Probability_{i} * (1 - Previous Probability_{i})] + {\\lambda}}\n",
    "\\end{equation}"
   ]
  },
  {
   "cell_type": "markdown",
   "metadata": {},
   "source": [
    "\\begin{equation}\n",
    "Output Value= \\frac{-0.5}{[0.5*0.5 + 0.5*0.5] + 0}\n",
    "\\end{equation}"
   ]
  },
  {
   "cell_type": "markdown",
   "metadata": {},
   "source": [
    "\\begin{equation}\n",
    "Output Value= -2\n",
    "\\end{equation}"
   ]
  },
  {
   "cell_type": "markdown",
   "metadata": {},
   "source": [
    "$The$ $First$ $Tree$ $Complete$!"
   ]
  },
  {
   "cell_type": "markdown",
   "metadata": {},
   "source": [
    "Now that we have built the first tree , we can make new $Predictions$"
   ]
  },
  {
   "cell_type": "markdown",
   "metadata": {},
   "source": [
    "Just like other boosting methods, $XGBoost$ for  $Classification$ makes new prediction by starting with the initial prediction.."
   ]
  },
  {
   "cell_type": "markdown",
   "metadata": {},
   "source": [
    "However , just like with unextreme $Gradient$ $Boost$ for $Classification$ , we need to convert  this probability to a $log(odds)$ value. "
   ]
  },
  {
   "cell_type": "markdown",
   "metadata": {},
   "source": [
    "so since this is the formula to convert probability  to $odds$.."
   ]
  },
  {
   "cell_type": "markdown",
   "metadata": {},
   "source": [
    "\\begin{equation}\n",
    "\\frac{p}{1 -p} = odds\n",
    "\\end{equation}"
   ]
  },
  {
   "cell_type": "markdown",
   "metadata": {},
   "source": [
    "we can get a formula that convert probability to the $log(odds)$ by taking  the log of both sides."
   ]
  },
  {
   "cell_type": "markdown",
   "metadata": {},
   "source": [
    "\\begin{equation}\n",
    "\\log(\\frac{p}{1 -p}) = \\log(odds)\n",
    "\\end{equation}"
   ]
  },
  {
   "cell_type": "markdown",
   "metadata": {},
   "source": [
    "In this case we plug $p$ = 0.5..."
   ]
  },
  {
   "cell_type": "markdown",
   "metadata": {},
   "source": [
    "\\begin{equation}\n",
    "\\log(\\frac{0.5}{0.5}) = \\log(odds)\n",
    "\\end{equation}"
   ]
  },
  {
   "cell_type": "markdown",
   "metadata": {},
   "source": [
    "\\begin{equation}\n",
    "\\log(1) = \\log(odds)\n",
    "\\end{equation}"
   ]
  },
  {
   "cell_type": "markdown",
   "metadata": {},
   "source": [
    "\\begin{equation}\n",
    "0 = \\log(odds)\n",
    "\\end{equation}"
   ]
  },
  {
   "cell_type": "markdown",
   "metadata": {},
   "source": [
    "we see that when $p$= 0.5 the $log(odds)$  = 0"
   ]
  },
  {
   "cell_type": "markdown",
   "metadata": {},
   "source": [
    "Now just like unextreme $Gradient$ $Boost$ for $Classification$ , we add the $log(odds)$ of the initial prediction, to the $Output$ $Value$ of the $Tree$ , scaled by the $Leaning$ $Rate$... "
   ]
  },
  {
   "cell_type": "markdown",
   "metadata": {},
   "source": [
    "$XGBoost$ calls the $Learning$ $Rate$ ${\\eta}$ (eta) and the default value is $0.3$,so that's what we will use."
   ]
  },
  {
   "cell_type": "markdown",
   "metadata": {},
   "source": [
    "Thus ,the new $Predicted$ value  for this observation, with $Dosage$ = $2$, is the $log(odds)$ of original prediction 0 , plus the $Learning$ $Rate$ (${\\eta}$ ,eta) , $0.3$ times the $Output$  $Value$ , $-2$ and that gives us a $log(odds)$ value = $-0.6$"
   ]
  },
  {
   "cell_type": "markdown",
   "metadata": {},
   "source": [
    "\\begin{equation}\n",
    "log(odds)(Prediction) = 0 + 0.3 * (-0.2) = -0.6\n",
    "\\end{equation}"
   ]
  },
  {
   "cell_type": "markdown",
   "metadata": {},
   "source": [
    "To convert  a $log(odds)$  value into  a probability , we plug it into  the $Logistic$ $Function$."
   ]
  },
  {
   "cell_type": "markdown",
   "metadata": {},
   "source": [
    "\\begin{equation}\n",
    "Probability = \\frac{e^{\\log(odds)}}{1 + e^{\\log(odds)}} \n",
    "\\end{equation}"
   ]
  },
  {
   "cell_type": "markdown",
   "metadata": {},
   "source": [
    "and let's plug in the $log(odds)$"
   ]
  },
  {
   "cell_type": "markdown",
   "metadata": {},
   "source": [
    "\\begin{equation}\n",
    "Probability = \\frac{e^{-0.6}}{1 + e^{-0.6}} \n",
    "\\end{equation}"
   ]
  },
  {
   "cell_type": "markdown",
   "metadata": {},
   "source": [
    "\\begin{equation}\n",
    "Probability = 0.35\n",
    "\\end{equation}"
   ]
  },
  {
   "cell_type": "markdown",
   "metadata": {},
   "source": [
    "and the new predicted  probability is $0.35$."
   ]
  },
  {
   "cell_type": "markdown",
   "metadata": {},
   "source": [
    "Remember , the original $Prediction$ was $0.5$, and this was the original $Residual$."
   ]
  },
  {
   "cell_type": "markdown",
   "metadata": {},
   "source": [
    "Now new predicted probability is $0.35$, and the new $Residual$ is smaller than before , so we have taken a small step in the right direction."
   ]
  },
  {
   "cell_type": "code",
   "execution_count": null,
   "metadata": {},
   "outputs": [],
   "source": []
  }
 ],
 "metadata": {
  "kernelspec": {
   "display_name": "Python 3",
   "language": "python",
   "name": "python3"
  },
  "language_info": {
   "codemirror_mode": {
    "name": "ipython",
    "version": 3
   },
   "file_extension": ".py",
   "mimetype": "text/x-python",
   "name": "python",
   "nbconvert_exporter": "python",
   "pygments_lexer": "ipython3",
   "version": "3.7.3"
  }
 },
 "nbformat": 4,
 "nbformat_minor": 2
}
